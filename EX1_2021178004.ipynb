{
  "nbformat": 4,
  "nbformat_minor": 0,
  "metadata": {
    "colab": {
      "provenance": [],
      "collapsed_sections": []
    },
    "kernelspec": {
      "name": "python3",
      "display_name": "Python 3"
    },
    "language_info": {
      "name": "python"
    }
  },
  "cells": [
    {
      "cell_type": "code",
      "execution_count": null,
      "metadata": {
        "colab": {
          "base_uri": "https://localhost:8080/"
        },
        "id": "UNdENjR17QU5",
        "outputId": "0bf932d7-12ba-44b1-8106-58a3fc736190"
      },
      "outputs": [
        {
          "output_type": "stream",
          "name": "stdout",
          "text": [
            "Slope= 1.987538940809969\n",
            "Intercept= 2.233644859813083\n"
          ]
        }
      ],
      "source": [
        "from statistics import mean\n",
        "import numpy as np\n",
        "\n",
        "xs = np.array([0,3,2,1,5,5,4,3,0,4], dtype=np.float64)\n",
        "ys = np.array([2,8,7,3,13,12,9,9,3,10], dtype=np.float64)\n",
        "\n",
        "def best_fit_slope_and_intercept(xs,ys):\n",
        "    m = (((mean(xs)*mean(ys)) - mean(xs*ys)) /\n",
        "         ((mean(xs)*mean(xs)) - mean(xs*xs)))\n",
        "    \n",
        "    b = mean(ys) - m*mean(xs)\n",
        "    \n",
        "    return m, b\n",
        "\n",
        "m, b = best_fit_slope_and_intercept(xs,ys)\n",
        "\n",
        "print(\"Slope=\",m)\n",
        "print(\"Intercept=\",b)\n",
        "\n"
      ]
    },
    {
      "cell_type": "code",
      "source": [
        "import numpy as np\n",
        "import matplotlib.pyplot as plt\n",
        "\n",
        "#define data\n",
        "x = np.array([0,3,2,1,5,5,4,3,0,4])\n",
        "y = np.array([2,8,7,3,13,12,9,9,3,10])\n",
        "\n",
        "#find line of best fit\n",
        "a, b = np.polyfit(x, y, 1)\n",
        "\n",
        "#add points to plot\n",
        "plt.scatter(x, y)\n",
        "\n",
        "#add line of best fit to plot\n",
        "plt.plot(x, a*x+b) "
      ],
      "metadata": {
        "colab": {
          "base_uri": "https://localhost:8080/",
          "height": 282
        },
        "id": "oZWFDKeb8FD8",
        "outputId": "32b30142-4b79-4ae3-86a2-deff948bbcfa"
      },
      "execution_count": null,
      "outputs": [
        {
          "output_type": "execute_result",
          "data": {
            "text/plain": [
              "[<matplotlib.lines.Line2D at 0x7f52b2d8c610>]"
            ]
          },
          "metadata": {},
          "execution_count": 10
        },
        {
          "output_type": "display_data",
          "data": {
            "text/plain": [
              "<Figure size 432x288 with 1 Axes>"
            ],
            "image/png": "[encoded data removed]"
          },
          "metadata": {
            "needs_background": "light"
          }
        }
      ]
    }
  ]
}